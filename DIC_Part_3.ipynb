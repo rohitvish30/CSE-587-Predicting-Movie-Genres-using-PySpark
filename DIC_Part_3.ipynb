{
 "cells": [
  {
   "cell_type": "markdown",
   "metadata": {
    "colab_type": "text",
    "id": "KzvS8aZLNRru"
   },
   "source": [
    "\n",
    "\n",
    "<h1><center> CSE 487/587 Assignment 3: Predictive Analytics with Spark</center></h1>"
   ]
  },
  {
   "cell_type": "markdown",
   "metadata": {
    "colab_type": "text",
    "id": "jONxKY8XRd8q"
   },
   "source": [
    "<h1><center> PART 3 - Custom Feature Engineering<center></h1>"
   ]
  },
  {
   "cell_type": "markdown",
   "metadata": {
    "colab_type": "text",
    "id": "as774PSER08g"
   },
   "source": [
    "## Importing packages and checking the version"
   ]
  },
  {
   "cell_type": "code",
   "execution_count": 1,
   "metadata": {
    "colab": {},
    "colab_type": "code",
    "id": "jpKLP-GScunn"
   },
   "outputs": [
    {
     "name": "stdout",
     "output_type": "stream",
     "text": [
      "openjdk version \"1.8.0_252\"\r\n",
      "OpenJDK Runtime Environment (build 1.8.0_252-8u252-b09-1~18.04-b09)\r\n",
      "OpenJDK 64-Bit Server VM (build 25.252-b09, mixed mode)\r\n"
     ]
    }
   ],
   "source": [
    "# Checking the JAVA version\n",
    "!java -version"
   ]
  },
  {
   "cell_type": "code",
   "execution_count": 2,
   "metadata": {
    "colab": {},
    "colab_type": "code",
    "id": "zhq4rfE2VsAb"
   },
   "outputs": [],
   "source": [
    "# Import the findspark and pyspark\n",
    "import findspark\n",
    "findspark.init('/home/cse587/spark-2.4.0-bin-hadoop2.7')\n",
    "import pyspark"
   ]
  },
  {
   "cell_type": "code",
   "execution_count": 3,
   "metadata": {
    "colab": {
     "base_uri": "https://localhost:8080/",
     "height": 268
    },
    "colab_type": "code",
    "id": "n5bv8O3EcwdG",
    "outputId": "1872e9b8-a4cf-45b2-e4e2-1097959279e1"
   },
   "outputs": [
    {
     "data": {
      "text/plain": [
       "<module 'pyspark' from '/home/cse587/spark-2.4.0-bin-hadoop2.7/python/pyspark/__init__.py'>"
      ]
     },
     "execution_count": 3,
     "metadata": {},
     "output_type": "execute_result"
    }
   ],
   "source": [
    "pyspark"
   ]
  },
  {
   "cell_type": "markdown",
   "metadata": {
    "colab_type": "text",
    "id": "2VGrI-s2xStB"
   },
   "source": [
    "## Importing Libraries"
   ]
  },
  {
   "cell_type": "code",
   "execution_count": 4,
   "metadata": {
    "colab": {},
    "colab_type": "code",
    "id": "UtzYtaYxnd0A"
   },
   "outputs": [],
   "source": [
    "import pandas as pd\n",
    "from pyspark.sql import SparkSession \n",
    "from pyspark.sql.functions import col, lower, regexp_replace, split, size,array\n",
    "from pyspark.sql.functions import udf\n",
    "from pyspark.sql.functions import UserDefinedFunction\n",
    "import pyspark.sql.functions as sf\n",
    "from pyspark.sql.types import StringType,IntegerType\n",
    "from pyspark.ml import Pipeline\n",
    "from pyspark.ml.feature import  Tokenizer, StopWordsRemover,HashingTF, IDF, Word2Vec\n",
    "from pyspark.ml import Pipeline\n",
    "from pyspark.ml.classification import RandomForestClassifier"
   ]
  },
  {
   "cell_type": "code",
   "execution_count": 5,
   "metadata": {},
   "outputs": [],
   "source": [
    "# Setting the max memory to 8gb RAM\n",
    "MAX_MEMORY = \"8g\"\n",
    "\n",
    "# Creating the spark session\n",
    "spark = SparkSession \\\n",
    "    .builder \\\n",
    "    .config(\"spark.executor.memory\", MAX_MEMORY) \\\n",
    "    .config(\"spark.driver.memory\", MAX_MEMORY) \\\n",
    "    .getOrCreate()\n",
    "\n",
    "from pyspark.sql import SQLContext\n",
    "sqlContext = SQLContext(spark)"
   ]
  },
  {
   "cell_type": "markdown",
   "metadata": {
    "colab_type": "text",
    "id": "KvutqpCkTNmU"
   },
   "source": [
    "## Importing Train, Test and Mapping datasets"
   ]
  },
  {
   "cell_type": "code",
   "execution_count": 6,
   "metadata": {
    "colab": {},
    "colab_type": "code",
    "id": "UxYsCHu0x9Yo"
   },
   "outputs": [],
   "source": [
    "train = pd.read_csv(\"train.csv\")\n",
    "test = pd.read_csv(\"test.csv\")\n",
    "mapping = pd.read_csv(\"mapping.csv\",names=[\"genre_id\", \"genre\"])"
   ]
  },
  {
   "cell_type": "markdown",
   "metadata": {
    "colab_type": "text",
    "id": "OalJ1BNFZCjD"
   },
   "source": [
    "## Checking datasets"
   ]
  },
  {
   "cell_type": "code",
   "execution_count": 7,
   "metadata": {
    "colab": {
     "base_uri": "https://localhost:8080/",
     "height": 200
    },
    "colab_type": "code",
    "id": "tuo5MJj7x917",
    "outputId": "6df98007-7ee0-4d97-828e-726b4e5d63ec"
   },
   "outputs": [
    {
     "data": {
      "text/html": [
       "<div>\n",
       "<style scoped>\n",
       "    .dataframe tbody tr th:only-of-type {\n",
       "        vertical-align: middle;\n",
       "    }\n",
       "\n",
       "    .dataframe tbody tr th {\n",
       "        vertical-align: top;\n",
       "    }\n",
       "\n",
       "    .dataframe thead th {\n",
       "        text-align: right;\n",
       "    }\n",
       "</style>\n",
       "<table border=\"1\" class=\"dataframe\">\n",
       "  <thead>\n",
       "    <tr style=\"text-align: right;\">\n",
       "      <th></th>\n",
       "      <th>movie_id</th>\n",
       "      <th>movie_name</th>\n",
       "      <th>plot</th>\n",
       "      <th>genre</th>\n",
       "    </tr>\n",
       "  </thead>\n",
       "  <tbody>\n",
       "    <tr>\n",
       "      <th>0</th>\n",
       "      <td>23890098</td>\n",
       "      <td>Taxi Blues</td>\n",
       "      <td>Shlykov, a hard-working taxi driver and Lyosha...</td>\n",
       "      <td>['World cinema', 'Drama']</td>\n",
       "    </tr>\n",
       "    <tr>\n",
       "      <th>1</th>\n",
       "      <td>31186339</td>\n",
       "      <td>The Hunger Games</td>\n",
       "      <td>The nation of Panem consists of a wealthy Capi...</td>\n",
       "      <td>['Action/Adventure', 'Action', 'Science Fictio...</td>\n",
       "    </tr>\n",
       "    <tr>\n",
       "      <th>2</th>\n",
       "      <td>20663735</td>\n",
       "      <td>Narasimham</td>\n",
       "      <td>Poovalli Induchoodan  is sentenced for six yea...</td>\n",
       "      <td>['Musical', 'Action', 'Drama']</td>\n",
       "    </tr>\n",
       "    <tr>\n",
       "      <th>3</th>\n",
       "      <td>2231378</td>\n",
       "      <td>The Lemon Drop Kid</td>\n",
       "      <td>The Lemon Drop Kid , a New York City swindler,...</td>\n",
       "      <td>['Comedy']</td>\n",
       "    </tr>\n",
       "    <tr>\n",
       "      <th>4</th>\n",
       "      <td>595909</td>\n",
       "      <td>A Cry in the Dark</td>\n",
       "      <td>Seventh-day Adventist Church pastor Michael Ch...</td>\n",
       "      <td>['Crime Fiction', 'World cinema', 'Drama']</td>\n",
       "    </tr>\n",
       "  </tbody>\n",
       "</table>\n",
       "</div>"
      ],
      "text/plain": [
       "   movie_id          movie_name  \\\n",
       "0  23890098          Taxi Blues   \n",
       "1  31186339    The Hunger Games   \n",
       "2  20663735          Narasimham   \n",
       "3   2231378  The Lemon Drop Kid   \n",
       "4    595909   A Cry in the Dark   \n",
       "\n",
       "                                                plot  \\\n",
       "0  Shlykov, a hard-working taxi driver and Lyosha...   \n",
       "1  The nation of Panem consists of a wealthy Capi...   \n",
       "2  Poovalli Induchoodan  is sentenced for six yea...   \n",
       "3  The Lemon Drop Kid , a New York City swindler,...   \n",
       "4  Seventh-day Adventist Church pastor Michael Ch...   \n",
       "\n",
       "                                               genre  \n",
       "0                          ['World cinema', 'Drama']  \n",
       "1  ['Action/Adventure', 'Action', 'Science Fictio...  \n",
       "2                     ['Musical', 'Action', 'Drama']  \n",
       "3                                         ['Comedy']  \n",
       "4         ['Crime Fiction', 'World cinema', 'Drama']  "
      ]
     },
     "execution_count": 7,
     "metadata": {},
     "output_type": "execute_result"
    }
   ],
   "source": [
    "train.head()"
   ]
  },
  {
   "cell_type": "code",
   "execution_count": 8,
   "metadata": {
    "colab": {
     "base_uri": "https://localhost:8080/",
     "height": 200
    },
    "colab_type": "code",
    "id": "G0K34_WEY6yo",
    "outputId": "7c30fea0-8ec2-4add-c03d-99df073e5b02"
   },
   "outputs": [
    {
     "data": {
      "text/html": [
       "<div>\n",
       "<style scoped>\n",
       "    .dataframe tbody tr th:only-of-type {\n",
       "        vertical-align: middle;\n",
       "    }\n",
       "\n",
       "    .dataframe tbody tr th {\n",
       "        vertical-align: top;\n",
       "    }\n",
       "\n",
       "    .dataframe thead th {\n",
       "        text-align: right;\n",
       "    }\n",
       "</style>\n",
       "<table border=\"1\" class=\"dataframe\">\n",
       "  <thead>\n",
       "    <tr style=\"text-align: right;\">\n",
       "      <th></th>\n",
       "      <th>movie_id</th>\n",
       "      <th>movie_name</th>\n",
       "      <th>plot</th>\n",
       "    </tr>\n",
       "  </thead>\n",
       "  <tbody>\n",
       "    <tr>\n",
       "      <th>0</th>\n",
       "      <td>1335380</td>\n",
       "      <td>Exodus</td>\n",
       "      <td>The film is based on the events that happened ...</td>\n",
       "    </tr>\n",
       "    <tr>\n",
       "      <th>1</th>\n",
       "      <td>29062594</td>\n",
       "      <td>A la salida nos vemos</td>\n",
       "      <td>A group of teenagers at Catholic boarding scho...</td>\n",
       "    </tr>\n",
       "    <tr>\n",
       "      <th>2</th>\n",
       "      <td>9252321</td>\n",
       "      <td>Come Back, Africa</td>\n",
       "      <td>This story of a Zulu family is a composite sto...</td>\n",
       "    </tr>\n",
       "    <tr>\n",
       "      <th>3</th>\n",
       "      <td>13455076</td>\n",
       "      <td>A Merry Mixup</td>\n",
       "      <td>The Stooges play three sets of identical tripl...</td>\n",
       "    </tr>\n",
       "    <tr>\n",
       "      <th>4</th>\n",
       "      <td>24165951</td>\n",
       "      <td>Getting Even</td>\n",
       "      <td>A soldier-of-fortune steals some Russian nerve...</td>\n",
       "    </tr>\n",
       "  </tbody>\n",
       "</table>\n",
       "</div>"
      ],
      "text/plain": [
       "   movie_id             movie_name  \\\n",
       "0   1335380                 Exodus   \n",
       "1  29062594  A la salida nos vemos   \n",
       "2   9252321      Come Back, Africa   \n",
       "3  13455076          A Merry Mixup   \n",
       "4  24165951           Getting Even   \n",
       "\n",
       "                                                plot  \n",
       "0  The film is based on the events that happened ...  \n",
       "1  A group of teenagers at Catholic boarding scho...  \n",
       "2  This story of a Zulu family is a composite sto...  \n",
       "3  The Stooges play three sets of identical tripl...  \n",
       "4  A soldier-of-fortune steals some Russian nerve...  "
      ]
     },
     "execution_count": 8,
     "metadata": {},
     "output_type": "execute_result"
    }
   ],
   "source": [
    "test.head()"
   ]
  },
  {
   "cell_type": "code",
   "execution_count": 9,
   "metadata": {
    "colab": {
     "base_uri": "https://localhost:8080/",
     "height": 200
    },
    "colab_type": "code",
    "id": "DYQFq-1PY-vE",
    "outputId": "a3f8b0fe-95d6-4b8f-c832-17de81d3be0d"
   },
   "outputs": [
    {
     "data": {
      "text/html": [
       "<div>\n",
       "<style scoped>\n",
       "    .dataframe tbody tr th:only-of-type {\n",
       "        vertical-align: middle;\n",
       "    }\n",
       "\n",
       "    .dataframe tbody tr th {\n",
       "        vertical-align: top;\n",
       "    }\n",
       "\n",
       "    .dataframe thead th {\n",
       "        text-align: right;\n",
       "    }\n",
       "</style>\n",
       "<table border=\"1\" class=\"dataframe\">\n",
       "  <thead>\n",
       "    <tr style=\"text-align: right;\">\n",
       "      <th></th>\n",
       "      <th>genre_id</th>\n",
       "      <th>genre</th>\n",
       "    </tr>\n",
       "  </thead>\n",
       "  <tbody>\n",
       "    <tr>\n",
       "      <th>0</th>\n",
       "      <td>NaN</td>\n",
       "      <td>0</td>\n",
       "    </tr>\n",
       "    <tr>\n",
       "      <th>1</th>\n",
       "      <td>0.0</td>\n",
       "      <td>Drama</td>\n",
       "    </tr>\n",
       "    <tr>\n",
       "      <th>2</th>\n",
       "      <td>1.0</td>\n",
       "      <td>Comedy</td>\n",
       "    </tr>\n",
       "    <tr>\n",
       "      <th>3</th>\n",
       "      <td>2.0</td>\n",
       "      <td>Romance Film</td>\n",
       "    </tr>\n",
       "    <tr>\n",
       "      <th>4</th>\n",
       "      <td>3.0</td>\n",
       "      <td>Thriller</td>\n",
       "    </tr>\n",
       "  </tbody>\n",
       "</table>\n",
       "</div>"
      ],
      "text/plain": [
       "   genre_id         genre\n",
       "0       NaN             0\n",
       "1       0.0         Drama\n",
       "2       1.0        Comedy\n",
       "3       2.0  Romance Film\n",
       "4       3.0      Thriller"
      ]
     },
     "execution_count": 9,
     "metadata": {},
     "output_type": "execute_result"
    }
   ],
   "source": [
    "mapping.head()"
   ]
  },
  {
   "cell_type": "markdown",
   "metadata": {
    "colab_type": "text",
    "id": "gZMiUselZRzO"
   },
   "source": [
    "## Converting pandas datasets to PySpark"
   ]
  },
  {
   "cell_type": "code",
   "execution_count": 10,
   "metadata": {
    "colab": {},
    "colab_type": "code",
    "id": "yZDd14riPs4H"
   },
   "outputs": [],
   "source": [
    "spark_df = sqlContext.createDataFrame(train)\n",
    "spark_test_df= sqlContext.createDataFrame(test)"
   ]
  },
  {
   "cell_type": "code",
   "execution_count": 11,
   "metadata": {
    "colab": {
     "base_uri": "https://localhost:8080/",
     "height": 159
    },
    "colab_type": "code",
    "id": "UerbTAVwAPGR",
    "outputId": "24f72a77-637a-4e73-ac9e-6d0022fa9345"
   },
   "outputs": [
    {
     "name": "stdout",
     "output_type": "stream",
     "text": [
      "+--------+----------------+--------------------+--------------------+\n",
      "|movie_id|      movie_name|                plot|               genre|\n",
      "+--------+----------------+--------------------+--------------------+\n",
      "|23890098|      Taxi Blues|Shlykov, a hard-w...|['World cinema', ...|\n",
      "|31186339|The Hunger Games|The nation of Pan...|['Action/Adventur...|\n",
      "+--------+----------------+--------------------+--------------------+\n",
      "only showing top 2 rows\n",
      "\n"
     ]
    }
   ],
   "source": [
    "spark_df.show(2)"
   ]
  },
  {
   "cell_type": "code",
   "execution_count": 12,
   "metadata": {
    "colab": {
     "base_uri": "https://localhost:8080/",
     "height": 159
    },
    "colab_type": "code",
    "id": "oh60V7KGAJWM",
    "outputId": "848bee54-dced-4db7-b533-65f3c4a62664"
   },
   "outputs": [
    {
     "name": "stdout",
     "output_type": "stream",
     "text": [
      "+--------+--------------------+--------------------+\n",
      "|movie_id|          movie_name|                plot|\n",
      "+--------+--------------------+--------------------+\n",
      "| 1335380|              Exodus|The film is based...|\n",
      "|29062594|A la salida nos v...|A group of teenag...|\n",
      "+--------+--------------------+--------------------+\n",
      "only showing top 2 rows\n",
      "\n"
     ]
    }
   ],
   "source": [
    "spark_test_df.show(2)"
   ]
  },
  {
   "cell_type": "markdown",
   "metadata": {
    "colab_type": "text",
    "id": "AiZ-T9sIZnyz"
   },
   "source": [
    "## select particular columns"
   ]
  },
  {
   "cell_type": "code",
   "execution_count": 13,
   "metadata": {
    "colab": {
     "base_uri": "https://localhost:8080/",
     "height": 479
    },
    "colab_type": "code",
    "id": "qb-JvKpsRudy",
    "outputId": "28b25c94-4025-4065-a74f-faf11ff2ee68"
   },
   "outputs": [
    {
     "name": "stdout",
     "output_type": "stream",
     "text": [
      "+--------+--------------------+--------------------+--------------------+\n",
      "|movie_id|          movie_name|                plot|               genre|\n",
      "+--------+--------------------+--------------------+--------------------+\n",
      "|23890098|          Taxi Blues|Shlykov, a hard-w...|['World cinema', ...|\n",
      "|31186339|    The Hunger Games|The nation of Pan...|['Action/Adventur...|\n",
      "|20663735|          Narasimham|Poovalli Induchoo...|['Musical', 'Acti...|\n",
      "| 2231378|  The Lemon Drop Kid|The Lemon Drop Ki...|          ['Comedy']|\n",
      "|  595909|   A Cry in the Dark|Seventh-day Adven...|['Crime Fiction',...|\n",
      "| 5272176|            End Game|The president is ...|['Action/Adventur...|\n",
      "| 1952976|          Dark Water|{{plot}} The film...|['Thriller', 'Dra...|\n",
      "|24225279|                Sing|The story begins ...|           ['Drama']|\n",
      "| 2462689|       Meet John Doe|Infuriated at bei...|['Black-and-white...|\n",
      "|20532852|Destination Meatball|A line of people ...|['Animation', 'Sh...|\n",
      "|15401493|    Husband for Hire|Lola  attempts to...|          ['Comedy']|\n",
      "|18188932|         Up and Down|Milan and Goran a...|['Crime Fiction',...|\n",
      "| 2940516|Ghost In The Noon...|Bumbling pirate c...|          ['Comedy']|\n",
      "| 1480747|       House Party 2|{{plot}} Followin...|          ['Comedy']|\n",
      "|24448645|Forest of the Dam...|Despite Lucy's re...|          ['Horror']|\n",
      "|15072401|Charlie Chan's Se...|Alan Colby, heir ...|['Crime Fiction',...|\n",
      "| 4018288|     The Biggest Fan|Debbie's favorite...|           ['Drama']|\n",
      "| 4596602|      Ashes to Ashes|Ashes to Ashes is...|['Crime Fiction',...|\n",
      "|15224586|        Green Dragon|The film follows ...|  ['Indie', 'Drama']|\n",
      "|15585766|  The Rats of Tobruk|Three friends are...|           ['Drama']|\n",
      "+--------+--------------------+--------------------+--------------------+\n",
      "only showing top 20 rows\n",
      "\n"
     ]
    }
   ],
   "source": [
    "spark_df.select(\"movie_id\",\"movie_name\",\"plot\",\"genre\").show() "
   ]
  },
  {
   "cell_type": "markdown",
   "metadata": {
    "colab_type": "text",
    "id": "1bP4Lt1xZ3VU"
   },
   "source": [
    "## Data Preprocessing"
   ]
  },
  {
   "cell_type": "markdown",
   "metadata": {
    "colab_type": "text",
    "id": "4742kFFiCHbV"
   },
   "source": [
    "### Data Cleaning "
   ]
  },
  {
   "cell_type": "code",
   "execution_count": 14,
   "metadata": {
    "colab": {
     "base_uri": "https://localhost:8080/",
     "height": 515
    },
    "colab_type": "code",
    "id": "7p3XwpitopsE",
    "outputId": "bfd71886-d4e9-4c4f-dfb9-71765ab773bd"
   },
   "outputs": [
    {
     "name": "stdout",
     "output_type": "stream",
     "text": [
      "root\n",
      " |-- movie_id: long (nullable = true)\n",
      " |-- movie_name: string (nullable = true)\n",
      " |-- plot: string (nullable = true)\n",
      " |-- genre: string (nullable = true)\n",
      "\n",
      "+--------+------------------+--------------------+--------------------+\n",
      "|movie_id|        movie_name|                plot|               genre|\n",
      "+--------+------------------+--------------------+--------------------+\n",
      "|23890098|        Taxi Blues|shlykov a hardwor...|['World cinema', ...|\n",
      "|31186339|  The Hunger Games|the nation of pan...|['Action/Adventur...|\n",
      "|20663735|        Narasimham|poovalli induchoo...|['Musical', 'Acti...|\n",
      "| 2231378|The Lemon Drop Kid|the lemon drop ki...|          ['Comedy']|\n",
      "|  595909| A Cry in the Dark|seventhday advent...|['Crime Fiction',...|\n",
      "+--------+------------------+--------------------+--------------------+\n",
      "only showing top 5 rows\n",
      "\n",
      "root\n",
      " |-- movie_id: long (nullable = true)\n",
      " |-- movie_name: string (nullable = true)\n",
      " |-- plot: string (nullable = true)\n",
      "\n",
      "+--------+--------------------+--------------------+\n",
      "|movie_id|          movie_name|                plot|\n",
      "+--------+--------------------+--------------------+\n",
      "| 1335380|              Exodus|the film is based...|\n",
      "|29062594|A la salida nos v...|a group of teenag...|\n",
      "| 9252321|   Come Back, Africa|this story of a z...|\n",
      "|13455076|       A Merry Mixup|the stooges play ...|\n",
      "|24165951|        Getting Even|a soldieroffortun...|\n",
      "+--------+--------------------+--------------------+\n",
      "only showing top 5 rows\n",
      "\n"
     ]
    }
   ],
   "source": [
    "# Using pyspark.sql.functions regexp_replace to remove punctuations and special characters\n",
    "def clean_text(c):\n",
    "    c = lower(c)\n",
    "    c = regexp_replace(c, \"^rt \", \"\")\n",
    "    c = regexp_replace(c, \"(https?\\://)\\S+\", \"\")\n",
    "    c = regexp_replace(c, \"[^a-zA-Z0-9\\\\s]\", \"\")\n",
    "    return c\n",
    "\n",
    "# We will do this for only \"plot\" column of the dataframe\n",
    "# Making the change in the train data\n",
    "clean_text_df = spark_df.select((\"movie_id\"),(\"movie_name\"),clean_text(col(\"plot\")).alias(\"plot\"),(\"genre\"))\n",
    "# Making the change in the test data\n",
    "clean_test_df = spark_test_df.select((\"movie_id\"),(\"movie_name\"),clean_text(col(\"plot\")).alias(\"plot\"))\n",
    "clean_text_df.printSchema()\n",
    "clean_text_df.show(5)\n",
    "clean_test_df.printSchema()\n",
    "clean_test_df.show(5)"
   ]
  },
  {
   "cell_type": "markdown",
   "metadata": {},
   "source": [
    "## We will first create the pipeline model which defines the step by step approach towards feature engineering"
   ]
  },
  {
   "cell_type": "code",
   "execution_count": 15,
   "metadata": {},
   "outputs": [],
   "source": [
    "# Step 1 - Tokenizer\n",
    "# This will separate each word of the plot into a list of words\n",
    "tokenizer = Tokenizer(inputCol=\"plot\", outputCol=\"words\")\n",
    "\n",
    "#Step 2 - Removing stopwords from the tokenized words\n",
    "remover = StopWordsRemover()\n",
    "stopwords = remover.getStopWords() \n",
    "stopwordsRemover = StopWordsRemover(inputCol=\"words\", outputCol=\"filtered\").setStopWords(stopwords)\n",
    "\n",
    "#Step 3 - Creating distributed vector representation of words after removing stopwords using Word2Vec\n",
    "w2v = Word2Vec(vectorSize=100, minCount=5, inputCol=\"filtered\", outputCol=\"rawFeatures\", stepSize=0.01)\n",
    "\n",
    "#Step 4 - Creating the pipeline for the above approach\n",
    "word2vec_pipeline = Pipeline(stages =[tokenizer, stopwordsRemover,w2v])"
   ]
  },
  {
   "cell_type": "markdown",
   "metadata": {
    "colab_type": "text",
    "id": "KPt4xn0SNTim"
   },
   "source": [
    "## Preparing Feature data for Train data"
   ]
  },
  {
   "cell_type": "code",
   "execution_count": 16,
   "metadata": {
    "colab": {
     "base_uri": "https://localhost:8080/",
     "height": 232
    },
    "colab_type": "code",
    "id": "o4TwXUJSAkU0",
    "outputId": "e33f22fb-3ade-4456-b0db-59ed9171e722"
   },
   "outputs": [
    {
     "name": "stdout",
     "output_type": "stream",
     "text": [
      "+--------+------------------+--------------------+--------------------+--------------------+--------------------+--------------------+\n",
      "|movie_id|        movie_name|                plot|               genre|               words|            filtered|         rawFeatures|\n",
      "+--------+------------------+--------------------+--------------------+--------------------+--------------------+--------------------+\n",
      "|23890098|        Taxi Blues|shlykov a hardwor...|['World cinema', ...|[shlykov, a, hard...|[shlykov, hardwor...|[-0.0180836420195...|\n",
      "|31186339|  The Hunger Games|the nation of pan...|['Action/Adventur...|[the, nation, of,...|[nation, panem, c...|[-0.0162740596882...|\n",
      "|20663735|        Narasimham|poovalli induchoo...|['Musical', 'Acti...|[poovalli, induch...|[poovalli, induch...|[-4.7364569269899...|\n",
      "| 2231378|The Lemon Drop Kid|the lemon drop ki...|          ['Comedy']|[the, lemon, drop...|[lemon, drop, kid...|[-0.0150217633932...|\n",
      "|  595909| A Cry in the Dark|seventhday advent...|['Crime Fiction',...|[seventhday, adve...|[seventhday, adve...|[-0.0021270738290...|\n",
      "+--------+------------------+--------------------+--------------------+--------------------+--------------------+--------------------+\n",
      "only showing top 5 rows\n",
      "\n"
     ]
    }
   ],
   "source": [
    "#Fitting the pipeline to the train data\n",
    "model1 = word2vec_pipeline.fit(clean_text_df) \n",
    "# Transforming the train data and creating separate dataframe of it\n",
    "featurizedData = model1.transform(clean_text_df)\n",
    "featurizedData.show(5)"
   ]
  },
  {
   "cell_type": "markdown",
   "metadata": {
    "colab_type": "text",
    "id": "NnAxT1h4NWYF"
   },
   "source": [
    "## Preparing Feature data for Test data"
   ]
  },
  {
   "cell_type": "code",
   "execution_count": 17,
   "metadata": {
    "colab": {
     "base_uri": "https://localhost:8080/",
     "height": 212
    },
    "colab_type": "code",
    "id": "bZIBi7zDpUIq",
    "outputId": "84b2a83b-90cc-4da2-9a1f-9c804bb41f37"
   },
   "outputs": [
    {
     "name": "stdout",
     "output_type": "stream",
     "text": [
      "+--------+--------------------+--------------------+--------------------+--------------------+--------------------+\n",
      "|movie_id|          movie_name|                plot|               words|            filtered|         rawFeatures|\n",
      "+--------+--------------------+--------------------+--------------------+--------------------+--------------------+\n",
      "| 1335380|              Exodus|the film is based...|[the, film, is, b...|[film, based, eve...|[-0.0033346106192...|\n",
      "|29062594|A la salida nos v...|a group of teenag...|[a, group, of, te...|[group, teenagers...|[-0.0115854096007...|\n",
      "| 9252321|   Come Back, Africa|this story of a z...|[this, story, of,...|[story, zulu, fam...|[-0.0074041764421...|\n",
      "|13455076|       A Merry Mixup|the stooges play ...|[the, stooges, pl...|[stooges, play, t...|[-0.0170712757489...|\n",
      "|24165951|        Getting Even|a soldieroffortun...|[a, soldieroffort...|[soldieroffortune...|[0.00455537089534...|\n",
      "+--------+--------------------+--------------------+--------------------+--------------------+--------------------+\n",
      "only showing top 5 rows\n",
      "\n"
     ]
    }
   ],
   "source": [
    "#Fitting the pipeline to the train data\n",
    "model2 = word2vec_pipeline.fit(clean_test_df) \n",
    "# Transforming the train data and creating separate dataframe of it\n",
    "testData = model2.transform(clean_test_df)\n",
    "testData.show(5)"
   ]
  },
  {
   "cell_type": "code",
   "execution_count": 18,
   "metadata": {
    "colab": {},
    "colab_type": "code",
    "id": "ZE31BrLFhK2U"
   },
   "outputs": [],
   "source": [
    "# Selecting only necessary columns\n",
    "featurizedData= featurizedData.select(\"movie_id\",\"movie_name\",\"plot\",\"genre\",\"rawFeatures\")"
   ]
  },
  {
   "cell_type": "markdown",
   "metadata": {
    "colab_type": "text",
    "id": "J8_DIhw5hXol"
   },
   "source": [
    "## **Feature vector with movie id**"
   ]
  },
  {
   "cell_type": "code",
   "execution_count": 19,
   "metadata": {
    "colab": {
     "base_uri": "https://localhost:8080/",
     "height": 479
    },
    "colab_type": "code",
    "id": "Lr-Ozn9ihP5L",
    "outputId": "37c18c11-2ca2-4061-cf40-e5c9c547bac1"
   },
   "outputs": [
    {
     "name": "stdout",
     "output_type": "stream",
     "text": [
      "+--------+--------------------+--------------------+--------------------+--------------------+\n",
      "|movie_id|          movie_name|                plot|               genre|         rawFeatures|\n",
      "+--------+--------------------+--------------------+--------------------+--------------------+\n",
      "|23890098|          Taxi Blues|shlykov a hardwor...|['World cinema', ...|[-0.0180836420195...|\n",
      "|31186339|    The Hunger Games|the nation of pan...|['Action/Adventur...|[-0.0162740596882...|\n",
      "|20663735|          Narasimham|poovalli induchoo...|['Musical', 'Acti...|[-4.7364569269899...|\n",
      "| 2231378|  The Lemon Drop Kid|the lemon drop ki...|          ['Comedy']|[-0.0150217633932...|\n",
      "|  595909|   A Cry in the Dark|seventhday advent...|['Crime Fiction',...|[-0.0021270738290...|\n",
      "| 5272176|            End Game|the president is ...|['Action/Adventur...|[-0.0362848561934...|\n",
      "| 1952976|          Dark Water|plot the film ope...|['Thriller', 'Dra...|[-0.0394205021706...|\n",
      "|24225279|                Sing|the story begins ...|           ['Drama']|[-0.0268051062153...|\n",
      "| 2462689|       Meet John Doe|infuriated at bei...|['Black-and-white...|[-0.0128675397029...|\n",
      "|20532852|Destination Meatball|a line of people ...|['Animation', 'Sh...|[-0.0379795298438...|\n",
      "|15401493|    Husband for Hire|lola  attempts to...|          ['Comedy']|[-0.0264630886525...|\n",
      "|18188932|         Up and Down|milan and goran a...|['Crime Fiction',...|[0.00549585858627...|\n",
      "| 2940516|Ghost In The Noon...|bumbling pirate c...|          ['Comedy']|[-0.0091981267679...|\n",
      "| 1480747|       House Party 2|plot following th...|          ['Comedy']|[-0.0097414572001...|\n",
      "|24448645|Forest of the Dam...|despite lucys res...|          ['Horror']|[-0.0214325566208...|\n",
      "|15072401|Charlie Chan's Se...|alan colby heir t...|['Crime Fiction',...|[-5.6942651185710...|\n",
      "| 4018288|     The Biggest Fan|debbies favorite ...|           ['Drama']|[-0.0451731553039...|\n",
      "| 4596602|      Ashes to Ashes|ashes to ashes is...|['Crime Fiction',...|[0.00251089626902...|\n",
      "|15224586|        Green Dragon|the film follows ...|  ['Indie', 'Drama']|[-0.0465920119281...|\n",
      "|15585766|  The Rats of Tobruk|three friends are...|           ['Drama']|[-0.0212993303005...|\n",
      "+--------+--------------------+--------------------+--------------------+--------------------+\n",
      "only showing top 20 rows\n",
      "\n"
     ]
    }
   ],
   "source": [
    "featurizedData.show()"
   ]
  },
  {
   "cell_type": "markdown",
   "metadata": {
    "colab_type": "text",
    "id": "lnthtf70gj5e"
   },
   "source": [
    "## Label Processing start"
   ]
  },
  {
   "cell_type": "code",
   "execution_count": 20,
   "metadata": {
    "colab": {},
    "colab_type": "code",
    "id": "kF2xm3HuQMM-"
   },
   "outputs": [],
   "source": [
    "# We will use mapping.csv to process our genrelist and convert it to the labels having binary number like string telling specifying the multilabels of the given movie plot\n",
    "mapping=mapping[1:]\n",
    "mapping_spark = sqlContext.createDataFrame(mapping)\n",
    "mapping_spark.toPandas().set_index('genre_id').T.to_dict()\n",
    "\n",
    "#taking the genre column in the list\n",
    "mapping_genre_list=mapping_spark.select(\"genre\").collect()\n",
    "\n",
    "#extracting the genre name into the list\n",
    "genreList=[]\n",
    "for i in range(0,mapping_spark.count()):\n",
    "    genreList.append(mapping_genre_list[i][0])"
   ]
  },
  {
   "cell_type": "code",
   "execution_count": 21,
   "metadata": {
    "colab": {
     "base_uri": "https://localhost:8080/",
     "height": 372
    },
    "colab_type": "code",
    "id": "PathOSK2dQ0M",
    "outputId": "258dfed2-5a77-4ac9-dd87-2fdc16a4c7ec"
   },
   "outputs": [
    {
     "data": {
      "text/plain": [
       "['Drama',\n",
       " 'Comedy',\n",
       " 'Romance Film',\n",
       " 'Thriller',\n",
       " 'Action',\n",
       " 'World cinema',\n",
       " 'Crime Fiction',\n",
       " 'Horror',\n",
       " 'Black-and-white',\n",
       " 'Indie',\n",
       " 'Action/Adventure',\n",
       " 'Adventure',\n",
       " 'Family Film',\n",
       " 'Short Film',\n",
       " 'Romantic drama',\n",
       " 'Animation',\n",
       " 'Musical',\n",
       " 'Science Fiction',\n",
       " 'Mystery',\n",
       " 'Romantic comedy']"
      ]
     },
     "execution_count": 21,
     "metadata": {},
     "output_type": "execute_result"
    }
   ],
   "source": [
    "genreList"
   ]
  },
  {
   "cell_type": "code",
   "execution_count": 22,
   "metadata": {
    "colab": {},
    "colab_type": "code",
    "id": "OaJD8vzdNQzi"
   },
   "outputs": [],
   "source": [
    "# This will convert the genre to the binary like string(1 and 0) specifying multilabels of the given movie_id\n",
    "def oneHotEncoding(x):\n",
    "    indexList=\" \"\n",
    "    for genre in genreList:\n",
    "        if genre in x:\n",
    "            indexList=indexList+\"1\"\n",
    "        else:\n",
    "            indexList=indexList+\"0\"\n",
    "    temp=(indexList.replace(\"\", \" \")[1: -1])\n",
    "    return temp.strip(\" \")"
   ]
  },
  {
   "cell_type": "markdown",
   "metadata": {
    "colab_type": "text",
    "id": "_DKToMEvg2tR"
   },
   "source": [
    "## Mapping Label with feature vectors"
   ]
  },
  {
   "cell_type": "code",
   "execution_count": 23,
   "metadata": {
    "colab": {
     "base_uri": "https://localhost:8080/",
     "height": 479
    },
    "colab_type": "code",
    "id": "YTp82Dw1bWC6",
    "outputId": "47725209-8bee-4100-e1fe-debbb026b9f4"
   },
   "outputs": [
    {
     "name": "stdout",
     "output_type": "stream",
     "text": [
      "+--------+--------------------+--------------------+--------------------+--------------------+\n",
      "|movie_id|          movie_name|                plot|              labels|         rawFeatures|\n",
      "+--------+--------------------+--------------------+--------------------+--------------------+\n",
      "|23890098|          Taxi Blues|shlykov a hardwor...|1 0 0 0 0 1 0 0 0...|[-0.0180836420195...|\n",
      "|31186339|    The Hunger Games|the nation of pan...|1 0 0 0 1 0 0 0 0...|[-0.0162740596882...|\n",
      "|20663735|          Narasimham|poovalli induchoo...|1 0 0 0 1 0 0 0 0...|[-4.7364569269899...|\n",
      "| 2231378|  The Lemon Drop Kid|the lemon drop ki...|0 1 0 0 0 0 0 0 0...|[-0.0150217633932...|\n",
      "|  595909|   A Cry in the Dark|seventhday advent...|1 0 0 0 0 1 1 0 0...|[-0.0021270738290...|\n",
      "| 5272176|            End Game|the president is ...|1 0 0 1 1 0 0 0 0...|[-0.0362848561934...|\n",
      "| 1952976|          Dark Water|plot the film ope...|1 0 0 1 0 0 0 1 0...|[-0.0394205021706...|\n",
      "|24225279|                Sing|the story begins ...|1 0 0 0 0 0 0 0 0...|[-0.0268051062153...|\n",
      "| 2462689|       Meet John Doe|infuriated at bei...|1 1 1 0 0 0 0 0 1...|[-0.0128675397029...|\n",
      "|20532852|Destination Meatball|a line of people ...|0 0 0 0 0 0 0 0 0...|[-0.0379795298438...|\n",
      "|15401493|    Husband for Hire|lola  attempts to...|0 1 0 0 0 0 0 0 0...|[-0.0264630886525...|\n",
      "|18188932|         Up and Down|milan and goran a...|1 1 0 0 0 1 1 0 0...|[0.00549585858627...|\n",
      "| 2940516|Ghost In The Noon...|bumbling pirate c...|0 1 0 0 0 0 0 0 0...|[-0.0091981267679...|\n",
      "| 1480747|       House Party 2|plot following th...|0 1 0 0 0 0 0 0 0...|[-0.0097414572001...|\n",
      "|24448645|Forest of the Dam...|despite lucys res...|0 0 0 0 0 0 0 1 0...|[-0.0214325566208...|\n",
      "|15072401|Charlie Chan's Se...|alan colby heir t...|0 0 0 1 0 0 1 1 0...|[-5.6942651185710...|\n",
      "| 4018288|     The Biggest Fan|debbies favorite ...|1 0 0 0 0 0 0 0 0...|[-0.0451731553039...|\n",
      "| 4596602|      Ashes to Ashes|ashes to ashes is...|0 0 1 1 1 0 1 0 0...|[0.00251089626902...|\n",
      "|15224586|        Green Dragon|the film follows ...|1 0 0 0 0 0 0 0 0...|[-0.0465920119281...|\n",
      "|15585766|  The Rats of Tobruk|three friends are...|1 0 0 0 0 0 0 0 0...|[-0.0212993303005...|\n",
      "+--------+--------------------+--------------------+--------------------+--------------------+\n",
      "only showing top 20 rows\n",
      "\n"
     ]
    }
   ],
   "source": [
    "myfunction = UserDefinedFunction(lambda x: oneHotEncoding(x), StringType())\n",
    "featurizedData = featurizedData.select(*[myfunction(col).alias(\"labels\") if col == \"genre\" else col for col in featurizedData.columns])\n",
    "featurizedData.show()"
   ]
  },
  {
   "cell_type": "code",
   "execution_count": 24,
   "metadata": {
    "colab": {},
    "colab_type": "code",
    "id": "B-lLuu07bh-E"
   },
   "outputs": [],
   "source": [
    "label=featurizedData.select(\"movie_id\",\"labels\")"
   ]
  },
  {
   "cell_type": "code",
   "execution_count": 25,
   "metadata": {
    "colab": {
     "base_uri": "https://localhost:8080/",
     "height": 479
    },
    "colab_type": "code",
    "id": "Im7p6_RIbk0n",
    "outputId": "12a7da78-bc30-4e00-c368-3d98a3007746"
   },
   "outputs": [
    {
     "name": "stdout",
     "output_type": "stream",
     "text": [
      "+--------+--------------------+\n",
      "|movie_id|              labels|\n",
      "+--------+--------------------+\n",
      "|23890098|1 0 0 0 0 1 0 0 0...|\n",
      "|31186339|1 0 0 0 1 0 0 0 0...|\n",
      "|20663735|1 0 0 0 1 0 0 0 0...|\n",
      "| 2231378|0 1 0 0 0 0 0 0 0...|\n",
      "|  595909|1 0 0 0 0 1 1 0 0...|\n",
      "| 5272176|1 0 0 1 1 0 0 0 0...|\n",
      "| 1952976|1 0 0 1 0 0 0 1 0...|\n",
      "|24225279|1 0 0 0 0 0 0 0 0...|\n",
      "| 2462689|1 1 1 0 0 0 0 0 1...|\n",
      "|20532852|0 0 0 0 0 0 0 0 0...|\n",
      "|15401493|0 1 0 0 0 0 0 0 0...|\n",
      "|18188932|1 1 0 0 0 1 1 0 0...|\n",
      "| 2940516|0 1 0 0 0 0 0 0 0...|\n",
      "| 1480747|0 1 0 0 0 0 0 0 0...|\n",
      "|24448645|0 0 0 0 0 0 0 1 0...|\n",
      "|15072401|0 0 0 1 0 0 1 1 0...|\n",
      "| 4018288|1 0 0 0 0 0 0 0 0...|\n",
      "| 4596602|0 0 1 1 1 0 1 0 0...|\n",
      "|15224586|1 0 0 0 0 0 0 0 0...|\n",
      "|15585766|1 0 0 0 0 0 0 0 0...|\n",
      "+--------+--------------------+\n",
      "only showing top 20 rows\n",
      "\n"
     ]
    }
   ],
   "source": [
    "label.show()"
   ]
  },
  {
   "cell_type": "markdown",
   "metadata": {
    "colab_type": "text",
    "id": "f5X_1IfXiS09"
   },
   "source": [
    "## Splitting Label columns"
   ]
  },
  {
   "cell_type": "code",
   "execution_count": 26,
   "metadata": {
    "colab": {},
    "colab_type": "code",
    "id": "cfvvfoqMbn-D"
   },
   "outputs": [],
   "source": [
    "from pyspark.sql.types import StringType,IntegerType\n",
    "split_col = pyspark.sql.functions.split(label['labels'],' ')\n",
    "for i in range(0,len(mapping_genre_list)):\n",
    "    label = label.withColumn('label{}'.format(i), split_col.getItem(i).cast(IntegerType()))"
   ]
  },
  {
   "cell_type": "code",
   "execution_count": 27,
   "metadata": {
    "colab": {
     "base_uri": "https://localhost:8080/",
     "height": 499
    },
    "colab_type": "code",
    "id": "tTdYvG0cbqHW",
    "outputId": "29242edc-1431-4f8f-c166-e1c26bc37a77"
   },
   "outputs": [
    {
     "name": "stdout",
     "output_type": "stream",
     "text": [
      "+--------+--------------------+------+------+------+------+------+------+------+------+------+------+-------+-------+-------+-------+-------+-------+-------+-------+-------+-------+\n",
      "|movie_id|              labels|label0|label1|label2|label3|label4|label5|label6|label7|label8|label9|label10|label11|label12|label13|label14|label15|label16|label17|label18|label19|\n",
      "+--------+--------------------+------+------+------+------+------+------+------+------+------+------+-------+-------+-------+-------+-------+-------+-------+-------+-------+-------+\n",
      "|23890098|1 0 0 0 0 1 0 0 0...|     1|     0|     0|     0|     0|     1|     0|     0|     0|     0|      0|      0|      0|      0|      0|      0|      0|      0|      0|      0|\n",
      "|31186339|1 0 0 0 1 0 0 0 0...|     1|     0|     0|     0|     1|     0|     0|     0|     0|     0|      1|      1|      0|      0|      0|      0|      0|      1|      0|      0|\n",
      "|20663735|1 0 0 0 1 0 0 0 0...|     1|     0|     0|     0|     1|     0|     0|     0|     0|     0|      0|      0|      0|      0|      0|      0|      1|      0|      0|      0|\n",
      "| 2231378|0 1 0 0 0 0 0 0 0...|     0|     1|     0|     0|     0|     0|     0|     0|     0|     0|      0|      0|      0|      0|      0|      0|      0|      0|      0|      0|\n",
      "|  595909|1 0 0 0 0 1 1 0 0...|     1|     0|     0|     0|     0|     1|     1|     0|     0|     0|      0|      0|      0|      0|      0|      0|      0|      0|      0|      0|\n",
      "| 5272176|1 0 0 1 1 0 0 0 0...|     1|     0|     0|     1|     1|     0|     0|     0|     0|     0|      1|      1|      0|      0|      0|      0|      0|      0|      0|      0|\n",
      "| 1952976|1 0 0 1 0 0 0 1 0...|     1|     0|     0|     1|     0|     0|     0|     1|     0|     0|      0|      0|      0|      0|      0|      0|      0|      0|      0|      0|\n",
      "|24225279|1 0 0 0 0 0 0 0 0...|     1|     0|     0|     0|     0|     0|     0|     0|     0|     0|      0|      0|      0|      0|      0|      0|      0|      0|      0|      0|\n",
      "| 2462689|1 1 1 0 0 0 0 0 1...|     1|     1|     1|     0|     0|     0|     0|     0|     1|     0|      0|      0|      0|      0|      0|      0|      0|      0|      0|      1|\n",
      "|20532852|0 0 0 0 0 0 0 0 0...|     0|     0|     0|     0|     0|     0|     0|     0|     0|     0|      0|      0|      1|      1|      0|      1|      0|      0|      0|      0|\n",
      "|15401493|0 1 0 0 0 0 0 0 0...|     0|     1|     0|     0|     0|     0|     0|     0|     0|     0|      0|      0|      0|      0|      0|      0|      0|      0|      0|      0|\n",
      "|18188932|1 1 0 0 0 1 1 0 0...|     1|     1|     0|     0|     0|     1|     1|     0|     0|     0|      0|      0|      0|      0|      0|      0|      0|      0|      0|      0|\n",
      "| 2940516|0 1 0 0 0 0 0 0 0...|     0|     1|     0|     0|     0|     0|     0|     0|     0|     0|      0|      0|      0|      0|      0|      0|      0|      0|      0|      0|\n",
      "| 1480747|0 1 0 0 0 0 0 0 0...|     0|     1|     0|     0|     0|     0|     0|     0|     0|     0|      0|      0|      0|      0|      0|      0|      0|      0|      0|      0|\n",
      "|24448645|0 0 0 0 0 0 0 1 0...|     0|     0|     0|     0|     0|     0|     0|     1|     0|     0|      0|      0|      0|      0|      0|      0|      0|      0|      0|      0|\n",
      "|15072401|0 0 0 1 0 0 1 1 0...|     0|     0|     0|     1|     0|     0|     1|     1|     0|     0|      0|      0|      0|      0|      0|      0|      0|      0|      1|      0|\n",
      "| 4018288|1 0 0 0 0 0 0 0 0...|     1|     0|     0|     0|     0|     0|     0|     0|     0|     0|      0|      0|      0|      0|      0|      0|      0|      0|      0|      0|\n",
      "| 4596602|0 0 1 1 1 0 1 0 0...|     0|     0|     1|     1|     1|     0|     1|     0|     0|     1|      0|      0|      0|      0|      0|      0|      0|      0|      0|      0|\n",
      "|15224586|1 0 0 0 0 0 0 0 0...|     1|     0|     0|     0|     0|     0|     0|     0|     0|     1|      0|      0|      0|      0|      0|      0|      0|      0|      0|      0|\n",
      "|15585766|1 0 0 0 0 0 0 0 0...|     1|     0|     0|     0|     0|     0|     0|     0|     0|     0|      0|      0|      0|      0|      0|      0|      0|      0|      0|      0|\n",
      "+--------+--------------------+------+------+------+------+------+------+------+------+------+------+-------+-------+-------+-------+-------+-------+-------+-------+-------+-------+\n",
      "only showing top 20 rows\n",
      "\n"
     ]
    }
   ],
   "source": [
    "label.show()"
   ]
  },
  {
   "cell_type": "markdown",
   "metadata": {
    "colab_type": "text",
    "id": "AHNijhGKjL_C"
   },
   "source": [
    "## Joining Feature vector column with label columns"
   ]
  },
  {
   "cell_type": "code",
   "execution_count": 28,
   "metadata": {
    "colab": {},
    "colab_type": "code",
    "id": "LHjLR60FbuAh"
   },
   "outputs": [],
   "source": [
    "featurizedData=featurizedData.drop('labels')\n",
    "df  = featurizedData.join(label, label.movie_id == featurizedData.movie_id).drop(label.movie_id)"
   ]
  },
  {
   "cell_type": "code",
   "execution_count": 29,
   "metadata": {
    "colab": {
     "base_uri": "https://localhost:8080/",
     "height": 499
    },
    "colab_type": "code",
    "id": "pSsyoZfkbwls",
    "outputId": "1bf7d747-a54f-46cf-94eb-31dad2bcb55a"
   },
   "outputs": [
    {
     "name": "stdout",
     "output_type": "stream",
     "text": [
      "+--------------------+--------------------+--------------------+--------+--------------------+------+------+------+------+------+------+------+------+------+------+-------+-------+-------+-------+-------+-------+-------+-------+-------+-------+\n",
      "|          movie_name|                plot|         rawFeatures|movie_id|              labels|label0|label1|label2|label3|label4|label5|label6|label7|label8|label9|label10|label11|label12|label13|label14|label15|label16|label17|label18|label19|\n",
      "+--------------------+--------------------+--------------------+--------+--------------------+------+------+------+------+------+------+------+------+------+------+-------+-------+-------+-------+-------+-------+-------+-------+-------+-------+\n",
      "|The Night of the ...|the film is set i...|[-0.0182564130088...|   75264|1 0 0 1 0 0 1 0 1...|     1|     0|     0|     1|     0|     0|     1|     0|     1|     0|      0|      0|      0|      0|      0|      0|      0|      0|      1|      0|\n",
      "|  One Foot in Heaven|the film follows ...|[0.05316944182850...|   77605|1 0 0 0 0 0 0 0 1...|     1|     0|     0|     0|     0|     0|     0|     0|     1|     0|      0|      0|      0|      0|      0|      0|      0|      0|      0|      0|\n",
      "|               Bugsy|gangster benjamin...|[-0.0040633559201...|  133480|1 0 1 0 0 0 1 0 0...|     1|     0|     1|     0|     0|     0|     1|     0|     0|     0|      0|      0|      0|      0|      1|      0|      0|      0|      0|      0|\n",
      "|     You've Got Mail|kathleen kelly  i...|[-0.0293530704938...|  158982|0 1 1 0 0 0 0 0 0...|     0|     1|     1|     0|     0|     0|     0|     0|     0|     0|      0|      0|      0|      0|      0|      0|      0|      0|      0|      1|\n",
      "|             Tin Cup|roy tin cup mcavo...|[-0.0331916867238...|  226562|1 1 1 0 0 0 0 0 0...|     1|     1|     1|     0|     0|     0|     0|     0|     0|     0|      0|      0|      0|      0|      0|      0|      0|      0|      0|      1|\n",
      "|The Object of My ...|social worker nin...|[-0.0486627639546...|  290633|1 1 1 0 0 0 0 0 0...|     1|     1|     1|     0|     0|     0|     0|     0|     0|     0|      0|      0|      0|      0|      0|      0|      0|      0|      0|      1|\n",
      "|          Teheran 43|the movie is abou...|[3.50355948456495...|  309159|1 0 1 1 1 0 1 0 0...|     1|     0|     1|     1|     1|     0|     1|     0|     0|     0|      0|      0|      0|      0|      0|      0|      0|      0|      0|      0|\n",
      "|      One-Eyed Jacks|rio  his partner ...|[-0.0166033819627...|  418252|0 0 0 0 1 0 0 0 0...|     0|     0|     0|     0|     1|     0|     0|     0|     0|     0|      1|      1|      0|      0|      0|      0|      0|      0|      0|      0|\n",
      "|Win a Date with T...|the film opens wi...|[-0.0206783996469...|  613518|0 1 1 0 0 0 0 0 0...|     0|     1|     1|     0|     0|     0|     0|     0|     0|     0|      0|      0|      0|      0|      0|      0|      0|      0|      0|      1|\n",
      "|     The Last Tycoon|monroe stahr  is ...|[-0.0411863972267...|  685720|1 0 1 0 0 0 0 0 0...|     1|     0|     1|     0|     0|     0|     0|     0|     0|     0|      0|      0|      0|      0|      1|      0|      0|      0|      0|      0|\n",
      "|The Count of Mont...| edmond dants and...|[0.00445369915815...|  872497|1 0 1 1 1 0 1 0 0...|     1|     0|     1|     1|     1|     0|     1|     0|     0|     0|      1|      1|      0|      0|      0|      0|      0|      0|      0|      0|\n",
      "|Harold & Kumar Go...| investment banke...|[-0.0311960125248...|  873469|0 1 0 0 0 0 0 0 0...|     0|     1|     0|     0|     0|     0|     0|     0|     0|     0|      0|      1|      0|      0|      0|      0|      0|      0|      0|      0|\n",
      "|Addams Family Values|gomez  and mortic...|[-0.0323744888442...|  876872|0 1 0 0 0 0 0 0 0...|     0|     1|     0|     0|     0|     0|     0|     0|     0|     0|      0|      0|      1|      0|      0|      0|      0|      0|      0|      0|\n",
      "|           Wishcraft|a high school stu...|[-0.0412080784636...|  887025|0 0 0 0 0 0 0 1 0...|     0|     0|     0|     0|     0|     0|     0|     1|     0|     0|      0|      0|      0|      0|      0|      0|      0|      0|      0|      0|\n",
      "|   Iron Jawed Angels|the film begins a...|[-0.0140854875750...| 1164646|1 0 0 0 0 0 0 0 0...|     1|     0|     0|     0|     0|     0|     0|     0|     0|     1|      0|      0|      0|      0|      0|      0|      0|      0|      0|      0|\n",
      "|Bridget Jones's D...|bridget jones  is...|[-0.0453964551685...| 1774803|1 1 1 0 0 0 0 0 0...|     1|     1|     1|     0|     0|     0|     0|     0|     0|     0|      0|      0|      0|      0|      0|      0|      0|      0|      0|      1|\n",
      "|      The Naked City|the film opens at...|[-0.0266584548933...| 1981790|1 0 0 1 0 0 1 0 1...|     1|     0|     0|     1|     0|     0|     1|     0|     1|     0|      0|      0|      0|      0|      0|      0|      0|      0|      1|      0|\n",
      "|            Gaslight|alice barlow  is ...|[-0.0263303937126...| 2279610|1 0 0 1 0 0 0 0 1...|     1|     0|     0|     1|     0|     0|     0|     0|     1|     0|      0|      0|      0|      0|      0|      0|      0|      0|      1|      0|\n",
      "|    The Players Club|diana armstrong  ...|[-0.0356540734343...| 2305752|1 1 0 0 0 0 0 0 0...|     1|     1|     0|     0|     0|     0|     0|     0|     0|     0|      0|      0|      0|      0|      0|      0|      0|      0|      0|      0|\n",
      "|   Moving Violations|the film follows ...|[0.00818004393812...| 2439340|0 1 0 0 0 0 0 0 0...|     0|     1|     0|     0|     0|     0|     0|     0|     0|     0|      0|      0|      0|      0|      0|      0|      0|      0|      0|      0|\n",
      "+--------------------+--------------------+--------------------+--------+--------------------+------+------+------+------+------+------+------+------+------+------+-------+-------+-------+-------+-------+-------+-------+-------+-------+-------+\n",
      "only showing top 20 rows\n",
      "\n"
     ]
    }
   ],
   "source": [
    "df.show()"
   ]
  },
  {
   "cell_type": "markdown",
   "metadata": {
    "colab_type": "text",
    "id": "uLafqObdjWii"
   },
   "source": [
    "## Function for Random Forest Classifier"
   ]
  },
  {
   "cell_type": "code",
   "execution_count": 30,
   "metadata": {
    "colab": {},
    "colab_type": "code",
    "id": "KAAdcMGyb10D"
   },
   "outputs": [],
   "source": [
    "def fit_and_classify(df, labelcol, featurescol):\n",
    "    RandomForest_classifier = RandomForestClassifier(labelCol = labelcol, featuresCol= featurescol,numTrees=3,maxDepth=2)\n",
    "    RandomForest_classifier_pipeline = Pipeline(stages=[RandomForest_classifier])\n",
    "    RandomForest_model = RandomForest_classifier_pipeline.fit(df)\n",
    "    return RandomForest_model"
   ]
  },
  {
   "cell_type": "markdown",
   "metadata": {
    "colab_type": "text",
    "id": "U4iI1ndXGMoK"
   },
   "source": [
    "## Training the Model"
   ]
  },
  {
   "cell_type": "code",
   "execution_count": 31,
   "metadata": {
    "colab": {},
    "colab_type": "code",
    "id": "pzVjY8ynb47J"
   },
   "outputs": [],
   "source": [
    "# We will train the model for each label column and take the prediction\n",
    "# As we are using Random Forest Classifier we will need to balance our data so that our model performs better\n",
    "# So here we will do undersamlpling to make the data balanced\n",
    "\n",
    "label_to_append = []\n",
    "for i in range(20):\n",
    "    filter_df = df.select('movie_id','rawFeatures','label{}'.format(i))\n",
    "    #Dividing the filtered_df to check for the ratio\n",
    "    major_df = filter_df.filter(filter_df['label{}'.format(i)] == 1) # Selecting the rows with labels only 1\n",
    "    minor_df = filter_df.filter(filter_df['label{}'.format(i)] == 0) # Selecting the rows with labels only 0\n",
    "    if minor_df.count() > major_df.count(): \n",
    "        ratio = minor_df.count() / major_df.count()\n",
    "        sampled_df = minor_df.sample(False, 1/ratio) # Sampling the data as per the ratio and setting withReplacement to False\n",
    "        final_df = sampled_df.union(major_df) # creating a final dataframe for our  random forest classifer model\n",
    "    else:\n",
    "        ratio = major_df.count() / minor_df.count()\n",
    "        sampled_df = major_df.sample(False, 1/ratio)# Sampling the data as per the ratio and setting withReplacement to False\n",
    "        final_df = sampled_df.union(minor_df) # creating a final dataframe for our  random forest classifer model\n",
    "    RandomForest_model = fit_and_classify(final_df, labelcol='label{}'.format(i), featurescol='rawFeatures')\n",
    "    predictions = RandomForest_model.transform(testData) # Getting the predictions\n",
    "    label_to_append.append(predictions.select('movie_id', 'prediction')) # Selecting only movie_id and prediction column"
   ]
  },
  {
   "cell_type": "code",
   "execution_count": 32,
   "metadata": {
    "colab": {},
    "colab_type": "code",
    "id": "erYFLmXEb9YD"
   },
   "outputs": [],
   "source": [
    "# Preparing the header row for each of the predicted label column (so total 20 prediction column)\n",
    "\n",
    "for i in range(len(label_to_append)):\n",
    "    label_to_append[i] = label_to_append[i].withColumnRenamed('prediction','prediction{}'.format(i))"
   ]
  },
  {
   "cell_type": "code",
   "execution_count": 33,
   "metadata": {
    "colab": {},
    "colab_type": "code",
    "id": "pqaT3mxzb_jK"
   },
   "outputs": [],
   "source": [
    "# Joining the data\n",
    "\n",
    "joined_df = label_to_append[0]\n",
    "for i in range(1,len(label_to_append)):\n",
    "    joined_df = joined_df.join(label_to_append[i],on = ['movie_id'], how = 'inner')"
   ]
  },
  {
   "cell_type": "markdown",
   "metadata": {
    "colab_type": "text",
    "id": "WC7IsfXZmvOk"
   },
   "source": [
    "## Assembling the predictions"
   ]
  },
  {
   "cell_type": "code",
   "execution_count": 34,
   "metadata": {
    "colab": {},
    "colab_type": "code",
    "id": "JmVpwc9HcDNQ"
   },
   "outputs": [],
   "source": [
    "from pyspark.ml.feature import VectorAssembler\n",
    "\n",
    "vecAssembler = VectorAssembler(inputCols = [\"prediction0\",\"prediction1\",\"prediction2\",\"prediction3\",\"prediction4\",\"prediction5\",\"prediction6\",\"prediction7\",\"prediction8\",\"prediction9\",\"prediction10\",\"prediction11\",\"prediction12\",\"prediction13\",\"prediction14\",\"prediction15\",\"prediction16\",\"prediction17\",\"prediction18\",\"prediction19\"], outputCol = 'Predictions')\n",
    "joined_df = vecAssembler.transform(joined_df)"
   ]
  },
  {
   "cell_type": "code",
   "execution_count": 35,
   "metadata": {
    "colab": {
     "base_uri": "https://localhost:8080/",
     "height": 232
    },
    "colab_type": "code",
    "id": "PBz1sojZcF2O",
    "outputId": "a6625ace-0277-4a66-93b9-23147b2e84da"
   },
   "outputs": [
    {
     "name": "stdout",
     "output_type": "stream",
     "text": [
      "+--------+-----------+-----------+-----------+-----------+-----------+-----------+-----------+-----------+-----------+-----------+------------+------------+------------+------------+------------+------------+------------+------------+------------+------------+--------------------+\n",
      "|movie_id|prediction0|prediction1|prediction2|prediction3|prediction4|prediction5|prediction6|prediction7|prediction8|prediction9|prediction10|prediction11|prediction12|prediction13|prediction14|prediction15|prediction16|prediction17|prediction18|prediction19|         Predictions|\n",
      "+--------+-----------+-----------+-----------+-----------+-----------+-----------+-----------+-----------+-----------+-----------+------------+------------+------------+------------+------------+------------+------------+------------+------------+------------+--------------------+\n",
      "|   62693|        0.0|        1.0|        0.0|        1.0|        0.0|        0.0|        1.0|        0.0|        0.0|        0.0|         0.0|         1.0|         1.0|         1.0|         0.0|         1.0|         0.0|         0.0|         0.0|         0.0|(20,[1,3,6,11,12,...|\n",
      "|  296252|        0.0|        1.0|        0.0|        1.0|        0.0|        0.0|        1.0|        0.0|        0.0|        0.0|         0.0|         1.0|         1.0|         1.0|         0.0|         1.0|         0.0|         0.0|         0.0|         0.0|(20,[1,3,6,11,12,...|\n",
      "| 1356971|        0.0|        1.0|        0.0|        1.0|        1.0|        0.0|        0.0|        0.0|        0.0|        0.0|         1.0|         1.0|         1.0|         1.0|         0.0|         1.0|         0.0|         1.0|         0.0|         0.0|(20,[1,3,4,10,11,...|\n",
      "| 1428872|        0.0|        1.0|        0.0|        1.0|        0.0|        0.0|        1.0|        0.0|        0.0|        0.0|         0.0|         1.0|         1.0|         1.0|         0.0|         1.0|         0.0|         0.0|         0.0|         0.0|(20,[1,3,6,11,12,...|\n",
      "| 1582173|        0.0|        1.0|        0.0|        1.0|        0.0|        0.0|        1.0|        0.0|        0.0|        0.0|         0.0|         1.0|         1.0|         1.0|         0.0|         1.0|         0.0|         0.0|         0.0|         0.0|(20,[1,3,6,11,12,...|\n",
      "+--------+-----------+-----------+-----------+-----------+-----------+-----------+-----------+-----------+-----------+-----------+------------+------------+------------+------------+------------+------------+------------+------------+------------+------------+--------------------+\n",
      "only showing top 5 rows\n",
      "\n"
     ]
    }
   ],
   "source": [
    "joined_df.show(5)"
   ]
  },
  {
   "cell_type": "code",
   "execution_count": 36,
   "metadata": {
    "colab": {},
    "colab_type": "code",
    "id": "qNNcIg9gcQE4"
   },
   "outputs": [],
   "source": [
    "result_df = joined_df.withColumn('predictions', \n",
    "                    sf.concat((sf.col('prediction0')).cast(IntegerType()),sf.lit(' '), sf.col('prediction1').cast(IntegerType()),sf.lit(' '), sf.col('prediction2').cast(IntegerType()),sf.lit(' '), sf.col('prediction3').cast(IntegerType()),sf.lit(' '), sf.col('prediction4').cast(IntegerType()),sf.lit(' '), sf.col('prediction5').cast(IntegerType()),sf.lit(' '), sf.col('prediction6').cast(IntegerType()),sf.lit(' '),sf.col('prediction7').cast(IntegerType()),sf.lit(' '), sf.col('prediction8').cast(IntegerType()),sf.lit(' '), sf.col('prediction9').cast(IntegerType()),sf.lit(' '), sf.col('prediction10').cast(IntegerType()),sf.lit(' '), sf.col('prediction11').cast(IntegerType()),sf.lit(' '), sf.col('prediction12').cast(IntegerType()),sf.lit(' '), sf.col('prediction13').cast(IntegerType()),sf.lit(' '),sf.col('prediction14').cast(IntegerType()),sf.lit(' '), sf.col('prediction15').cast(IntegerType()),sf.lit(' '), sf.col('prediction16').cast(IntegerType()),sf.lit(' '), sf.col('prediction17').cast(IntegerType()),sf.lit(' '), sf.col('prediction18').cast(IntegerType()),sf.lit(' '), sf.col('prediction19').cast(IntegerType())))\n"
   ]
  },
  {
   "cell_type": "code",
   "execution_count": 37,
   "metadata": {
    "colab": {},
    "colab_type": "code",
    "id": "P6kPUxxbc9SM"
   },
   "outputs": [],
   "source": [
    "result_df=result_df.select(\"movie_id\",\"predictions\")"
   ]
  },
  {
   "cell_type": "code",
   "execution_count": 38,
   "metadata": {
    "colab": {
     "base_uri": "https://localhost:8080/",
     "height": 212
    },
    "colab_type": "code",
    "id": "c2iTy7mZdAR7",
    "outputId": "ec62e052-0f17-4963-b8a1-a948030dd158"
   },
   "outputs": [
    {
     "name": "stdout",
     "output_type": "stream",
     "text": [
      "+--------+--------------------+\n",
      "|movie_id|         predictions|\n",
      "+--------+--------------------+\n",
      "|   62693|0 1 0 1 0 0 1 0 0...|\n",
      "|  296252|0 1 0 1 0 0 1 0 0...|\n",
      "| 1356971|0 1 0 1 1 0 0 0 0...|\n",
      "| 1428872|0 1 0 1 0 0 1 0 0...|\n",
      "| 1582173|0 1 0 1 0 0 1 0 0...|\n",
      "+--------+--------------------+\n",
      "only showing top 5 rows\n",
      "\n"
     ]
    }
   ],
   "source": [
    "result_df.show(5)"
   ]
  },
  {
   "cell_type": "markdown",
   "metadata": {
    "colab_type": "text",
    "id": "qM5fYZBJmnf7"
   },
   "source": [
    "## Saving the result dataframe into CSV file"
   ]
  },
  {
   "cell_type": "code",
   "execution_count": 39,
   "metadata": {
    "colab": {},
    "colab_type": "code",
    "id": "5DR3vTRkZcWh"
   },
   "outputs": [],
   "source": [
    "result_df.coalesce(1).write.format(\"csv\").option(\"header\", \"true\").save(\"DIC_Assignment_3_Part3\")"
   ]
  },
  {
   "cell_type": "code",
   "execution_count": null,
   "metadata": {},
   "outputs": [],
   "source": []
  }
 ],
 "metadata": {
  "colab": {
   "name": "DIC_Part 3_Final.ipynb",
   "provenance": []
  },
  "kernelspec": {
   "display_name": "Python 3",
   "language": "python",
   "name": "python3"
  },
  "language_info": {
   "codemirror_mode": {
    "name": "ipython",
    "version": 3
   },
   "file_extension": ".py",
   "mimetype": "text/x-python",
   "name": "python",
   "nbconvert_exporter": "python",
   "pygments_lexer": "ipython3",
   "version": "3.7.6"
  }
 },
 "nbformat": 4,
 "nbformat_minor": 1
}
